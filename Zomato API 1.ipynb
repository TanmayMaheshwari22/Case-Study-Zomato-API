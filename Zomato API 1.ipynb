{
 "cells": [
  {
   "cell_type": "markdown",
   "id": "cc422c29",
   "metadata": {},
   "source": [
    "**Note**: Currently, the official Zomato API documentation is down. As a replacement, to understand the documentation refer to the following [link](https://app.swaggerhub.com/apis-docs/Vivek-Raj/zomato-api/1.0.0)"
   ]
  },
  {
   "cell_type": "markdown",
   "id": "d9def46c",
   "metadata": {},
   "source": [
    "Since you would not be able to use the official website to generate your own access key, for now use any of the following user keys:\n",
    "\n",
    "627c28c07ad221c65491bbffea6f5d54\n",
    "\n",
    "68a952b60155797d28def1585d888b9f\n",
    "\n",
    "a1460684c45b3ba1a38a6b1473597055\n",
    "\n",
    "399720f6f904f106e162cd2bd0011a6f\n",
    "\n",
    "816c8c7a9e52da5bd2dcc0446558288d"
   ]
  },
  {
   "cell_type": "markdown",
   "id": "4ff83271",
   "metadata": {},
   "source": [
    "**Zomato cuisine**\n",
    "\n",
    "Mexican cuisine began about 9,000 years ago, when agricultural communities such as the Maya formed, domesticating maize, creating the standard process of corn nixtamalization, and establishing their foodways. You are a huge fan of ‘Mexican’ cuisine. Now using the Zomato API you want to analyse the best restaurant serving the Mexican Cuisine, their locations, and cost for two, etc"
   ]
  },
  {
   "cell_type": "code",
   "execution_count": 2,
   "id": "a6206468",
   "metadata": {},
   "outputs": [],
   "source": [
    "import json\n",
    "import requests"
   ]
  },
  {
   "cell_type": "markdown",
   "id": "0b271972",
   "metadata": {},
   "source": [
    "**1.Cuisine_Id of Mexican**"
   ]
  },
  {
   "cell_type": "code",
   "execution_count": 6,
   "id": "7b0e38b8",
   "metadata": {},
   "outputs": [
    {
     "name": "stdout",
     "output_type": "stream",
     "text": [
      "Cuisine_id : 73\n"
     ]
    }
   ],
   "source": [
    "h={'user-key':'68a952b60155797d28def1585d888b9f'}\n",
    "response=requests.get('https://developers.zomato.com/api/v2.1/cuisines?city_id=1',headers=h)\n",
    "data=response.json()\n",
    "for i in data['cuisines']:\n",
    "      if (i['cuisine']['cuisine_name']=='Mexican'):\n",
    "            print('Cuisine_id :',i['cuisine']['cuisine_id'])"
   ]
  },
  {
   "cell_type": "markdown",
   "id": "989c578a",
   "metadata": {},
   "source": [
    "**2.Entity-id and Entity-type of Connaught Place**"
   ]
  },
  {
   "cell_type": "code",
   "execution_count": 9,
   "id": "4da59f93",
   "metadata": {},
   "outputs": [
    {
     "name": "stdout",
     "output_type": "stream",
     "text": [
      "Entity-type : subzone | Enitity-id : 104\n"
     ]
    }
   ],
   "source": [
    "response=requests.get(\"https://developers.zomato.com/api/v2.1/locations\",headers={\"user-key\":\"7073f0d9bb1cabfadf22ff83f1462ee1\" },params={\"query\":\"Connaught Place\"})\n",
    "data=response.json()\n",
    "for i in data[\"location_suggestions\"]:\n",
    "    print('Entity-type :',i[\"entity_type\"],'|','Enitity-id :',i[\"entity_id\"])"
   ]
  },
  {
   "cell_type": "markdown",
   "id": "14005977",
   "metadata": {},
   "source": [
    "**3.Top 10 best-rated restaurant serving ‘Mexican’ cuisine present in Connaught Place**"
   ]
  },
  {
   "cell_type": "code",
   "execution_count": 10,
   "id": "0bb32c68",
   "metadata": {},
   "outputs": [
    {
     "name": "stdout",
     "output_type": "stream",
     "text": [
      "Station Bar 4.5 18851371\n",
      "Master Of Malts 4.4 18391149\n",
      "Local 4.3 18382360\n",
      "Ministry Of Beer 4.3 18418277\n",
      "The Darzi Bar & Kitchen 4.3 18423151\n",
      "38 Barracks 4.3 18241537\n",
      "Teddy Boy 4.3 18281985\n",
      "Lord Of The Drinks 4.3 312603\n",
      "Openhouse Cafe 4.3 312601\n",
      "Chili's Grill & Bar 4.3 18537536\n"
     ]
    }
   ],
   "source": [
    "response = requests.get('https://developers.zomato.com/api/v2.1/search',\n",
    "                        headers = {'user-key':'eaebc19dab4d9e66343b659cc4228356'},\n",
    "                       params={\"entity_id\":\"104\",\n",
    "                               \"entity_type\":\"subzone\", \n",
    "                               \"count\":10,\n",
    "                               \"cuisines\":\"73\",\n",
    "                               \"sort\":\"rating\",\n",
    "                               \"order\":\"desc\"}\n",
    "                       ) \n",
    "py_data = response.json()\n",
    "for i in py_data[\"restaurants\"]:\n",
    "    print(i[\"restaurant\"][\"name\"],i[\"restaurant\"][\"user_rating\"][\"aggregate_rating\"],i[\"restaurant\"][\"id\"])"
   ]
  },
  {
   "cell_type": "markdown",
   "id": "2e2a1c33",
   "metadata": {},
   "source": [
    "**4.Category id of category type ‘Cafes’**"
   ]
  },
  {
   "cell_type": "code",
   "execution_count": 13,
   "id": "d4334432",
   "metadata": {},
   "outputs": [
    {
     "name": "stdout",
     "output_type": "stream",
     "text": [
      "Category-id: 6\n"
     ]
    }
   ],
   "source": [
    "h={'user-key':'627c28c07ad221c65491bbffea6f5d54'}\n",
    "response=requests.get('https://developers.zomato.com/api/v2.1/categories',headers=h)\n",
    "data=response.json()\n",
    "for i in data['categories']:\n",
    "    if(i['categories']['name']=='Cafes'):\n",
    "        print('Category-id:',i['categories']['id'])"
   ]
  },
  {
   "cell_type": "markdown",
   "id": "a970396c",
   "metadata": {},
   "source": [
    "**5.Best-rated restaurant for ‘Mexican’ cuisine with category type ‘ Cafes’ present in Connaught Place**"
   ]
  },
  {
   "cell_type": "code",
   "execution_count": 14,
   "id": "4098bbbf",
   "metadata": {},
   "outputs": [
    {
     "name": "stdout",
     "output_type": "stream",
     "text": [
      "Xero Degrees 4.2 18729557\n",
      "Chaayos Chai+Snacks=Relax 4.2 18237315\n",
      "Cafe Coffee Day - The Square 3.8 303034\n",
      "The Art House Restaurant 3.6 18863766\n"
     ]
    }
   ],
   "source": [
    "response = requests.get('https://developers.zomato.com/api/v2.1/search',\n",
    "                        headers = {'user-key':'eaebc19dab4d9e66343b659cc4228356'},\n",
    "                       params={\"entity_id\":\"104\",\n",
    "                               \"entity_type\":\"subzone\", \n",
    "                               \"cuisines\":\"73\",\n",
    "                               \"category\":\"6\",\n",
    "                               \"sort\":\"rating\",\n",
    "                               \"order\":\"desc\"}\n",
    "                       ) \n",
    "py_data = response.json()\n",
    "for i in py_data[\"restaurants\"]:\n",
    "    print(i[\"restaurant\"][\"name\"],i[\"restaurant\"][\"user_rating\"][\"aggregate_rating\"],i[\"restaurant\"][\"id\"])"
   ]
  },
  {
   "cell_type": "markdown",
   "id": "77f0f03e",
   "metadata": {},
   "source": [
    "**Zomato restaurant**"
   ]
  },
  {
   "cell_type": "markdown",
   "id": "dfba4e45",
   "metadata": {},
   "source": [
    "**\"Pa Pa Ya\" restaurant :**\n",
    "\"Pa Pa Ya\" is a modern Asian bistro & tapas bar from the House of Massive Restaurants and best described as a chic, modern and radical reinterpretation of Asian cuisine."
   ]
  },
  {
   "cell_type": "markdown",
   "id": "786c52dd",
   "metadata": {},
   "source": [
    "**1.User rating, Average cost for two, Cuisines and Address**"
   ]
  },
  {
   "cell_type": "code",
   "execution_count": 20,
   "id": "40502bf5",
   "metadata": {},
   "outputs": [
    {
     "name": "stdout",
     "output_type": "stream",
     "text": [
      "User-rating: 4.5\n",
      "Average cost for two: 2000\n",
      "Cuisines: Asian, Chinese, Thai, Japanese, Sushi, Malaysian, Momos, Beverages\n",
      "Address: A-3, Select Citywalk, District Centre, Saket, New Delhi\n"
     ]
    }
   ],
   "source": [
    "h={'user-key':'627c28c07ad221c65491bbffea6f5d54'}\n",
    "info={'res_id':'18429148'}\n",
    "response=requests.get('http://developers.zomato.com/api/v2.1/restaurant',headers=h,params=info)\n",
    "data=response.json()\n",
    "print('User-rating:',data['user_rating']['aggregate_rating'])\n",
    "print('Average cost for two:',data['average_cost_for_two'])\n",
    "print('Cuisines:',data['cuisines'])\n",
    "print('Address:',data['location']['address'])"
   ]
  },
  {
   "cell_type": "markdown",
   "id": "840ead3f",
   "metadata": {},
   "source": [
    "**2.Table Availability at Pa Pa Ya**"
   ]
  },
  {
   "cell_type": "code",
   "execution_count": 22,
   "id": "774e2b36",
   "metadata": {},
   "outputs": [
    {
     "name": "stdout",
     "output_type": "stream",
     "text": [
      "No,the table is availabe at Pa Pa Ya\n"
     ]
    }
   ],
   "source": [
    "h={'user-key':'627c28c07ad221c65491bbffea6f5d54'}\n",
    "info={'res_id':'18429148'}\n",
    "response=requests.get('http://developers.zomato.com/api/v2.1/restaurant',headers=h,params=info)\n",
    "data=response.json()\n",
    "if data['is_table_reservation_supported']:\n",
    "    print('Yes,the table is availabe at Pa Pa Ya')\n",
    "else:\n",
    "    print('No,the table is availabe at Pa Pa Ya')"
   ]
  },
  {
   "cell_type": "markdown",
   "id": "207821ab",
   "metadata": {},
   "source": [
    "**3.Pa Pa Ya Review**"
   ]
  },
  {
   "cell_type": "code",
   "execution_count": null,
   "id": "09283231",
   "metadata": {},
   "outputs": [],
   "source": [
    "response = requests.get('https://developers.zomato.com/api/v2.1/reviews?res_id=18429148',\n",
    "                        headers = {'user-key':'eaebc19dab4d9e66343b659cc4228356'},\n",
    "                       ) \n",
    "py_data = response.json()\n",
    "for i in py_data['user_reviews']:\n",
    "    print(i['review']['user']['name'],i['review']['rating'],i['review']['review_text'])"
   ]
  },
  {
   "cell_type": "markdown",
   "id": "cdf3347d",
   "metadata": {},
   "source": [
    "Kshitij Kirtikar 5 Went to pa pa ya today 14/4/2021 for lunch. I always make it a point to visit this outlet in saket New Delhi. The location is just amazing as it’s a rooftop. The food is always great and service is fantastic as well. Vikrant was serving us today and he is well informed and gave great service too\n",
    "Rishabh 5 Sanjeev served us and help us throughout the experience of dining as we were the first timer to this cuisine and restaurant. Thank you!\n",
    "Raju 5 \n",
    "Naman Singh 5 \n",
    "Ravi Ranjan 5 "
   ]
  },
  {
   "cell_type": "markdown",
   "id": "80b004c1",
   "metadata": {},
   "source": [
    "**Zomato Distance**"
   ]
  },
  {
   "cell_type": "markdown",
   "id": "5b04a8c6",
   "metadata": {},
   "source": [
    "Distance is also a very important factor while selecting a restaurant. Suppose you are at Coding Ninjas and you want to select the restaurant which is near to you using Zomato API."
   ]
  },
  {
   "cell_type": "markdown",
   "id": "2932c981",
   "metadata": {},
   "source": [
    "Note down the latitude and longitude of Coding Ninjas using Google Maps."
   ]
  },
  {
   "cell_type": "markdown",
   "id": "5779b7d4",
   "metadata": {},
   "source": [
    "**1.Cuisine_id of of cuisine ‘BBQ’**"
   ]
  },
  {
   "cell_type": "code",
   "execution_count": 23,
   "id": "3955c6ce",
   "metadata": {},
   "outputs": [
    {
     "name": "stdout",
     "output_type": "stream",
     "text": [
      "Cuisine-id: 193\n"
     ]
    }
   ],
   "source": [
    "h={'user-key':'68a952b60155797d28def1585d888b9f'}\n",
    "response=requests.get('https://developers.zomato.com/api/v2.1/cuisines?city_id=1',headers=h)\n",
    "data=response.json()\n",
    "for i in data['cuisines']:\n",
    "      if (i['cuisine']['cuisine_name']=='BBQ'):\n",
    "            print('Cuisine-id:',i['cuisine']['cuisine_id'])"
   ]
  },
  {
   "cell_type": "markdown",
   "id": "f2c1169b",
   "metadata": {},
   "source": [
    "**2.List of the top 10 restaurants serving cuisine ‘BBQ’ which are nearest to Coding Ninjas**"
   ]
  },
  {
   "cell_type": "code",
   "execution_count": 25,
   "id": "e7b1135e",
   "metadata": {},
   "outputs": [
    {
     "name": "stdout",
     "output_type": "stream",
     "text": [
      "Peshawari Kohat Wale 4.0 4683 Pitampura\n",
      "Tandoori Nights 0 19661940 Pitampura\n",
      "Food Zomby 0 20109769 Pitampura\n",
      "UBQ by Barbeque Nation 4.2 18889769 Netaji Subhash Place\n",
      "Barbeque Nation 4.4 9561 Netaji Subhash Place\n",
      "Tawa Tandoor 0 20113882 Pitampura\n",
      "Kaka Tawa & Tandoori 0 19945546 Lawrence Road\n",
      "Castle's Barbeque  3.9 19905791 Pacific Mall, Pitampura\n",
      "Barbeque Nation 4.2 19931419 Lawrence Road\n",
      "UBQ by Barbeque Nation 4.2 19082741 Lawrence Road\n"
     ]
    }
   ],
   "source": [
    "#We will be using latitude and longitude of Coding Ninjas as parameters to get the top 10 restaurants near Coding Ninjas\n",
    "h = {'user-key' : 'f52f3e6784735c6a00bfcc7584bd2469'}\n",
    "param={'sort':'real_distance','lat' : 28.697522, 'lon': 77.140681,'order':'dsc','cuisines':'193','count':'10'}\n",
    "\n",
    "res = requests.get('https://developers.zomato.com/api/v2.1/search', headers = h,params=param)\n",
    "\n",
    "data = res.json()\n",
    "\n",
    "for i in data['restaurants']:\n",
    "    print(i['restaurant']['name'],i['restaurant']['user_rating']['aggregate_rating'],i['restaurant']['id'],i['restaurant']['location']['locality'])"
   ]
  },
  {
   "cell_type": "markdown",
   "id": "7f8c8533",
   "metadata": {},
   "source": [
    "**List of top 10 best-restaurant present in a radius of 4 km of Coding Ninjas**"
   ]
  },
  {
   "cell_type": "code",
   "execution_count": 27,
   "id": "97fa3b2d",
   "metadata": {},
   "outputs": [
    {
     "name": "stdout",
     "output_type": "stream",
     "text": [
      "Indian Accent 4.9 2004 The Lodhi, Lodhi Road\n",
      "Kuremal Mohan Lal Kulfi Wale 4.9 303642 Chawri Bazar\n",
      "The Big Chill 4.9 1614 Khan Market\n",
      "Dum-Pukht - ITC Maurya 4.9 2744 ITC Maurya, Chanakyapuri\n",
      "The Big Chill 4.9 8244 Khan Market\n",
      "The Big Chill 4.8 18919107 The Colonnade, Connaught Place\n",
      "The Big Chill 4.8 3192 DLF Avenue, Saket\n",
      "The Big Chill 4.8 3190 Kailash Colony\n",
      "The Big Chill 4.8 301235 DLF Promenade Mall, Vasant Kunj\n",
      "The Big Chill Cakery 4.8 18268698 DLF Mall of India, Sector 18\n"
     ]
    }
   ],
   "source": [
    "h = {'user-key' : '68a952b60155797d28def1585d888b9f'}\n",
    "param={'sort':'rating','radius':'4000','lat' : 28.697522, 'lon': 77.140681,'order':'dsc','count':'10'}\n",
    "\n",
    "res = requests.get('https://developers.zomato.com/api/v2.1/search', headers = h,params=param)\n",
    "\n",
    "data = res.json()\n",
    "\n",
    "for i in data['restaurants']:\n",
    "    print(i['restaurant']['name'],i['restaurant']['user_rating']['aggregate_rating'],i['restaurant']['id'],i['restaurant']['location']['locality'])"
   ]
  }
 ],
 "metadata": {
  "kernelspec": {
   "display_name": "Python 3",
   "language": "python",
   "name": "python3"
  },
  "language_info": {
   "codemirror_mode": {
    "name": "ipython",
    "version": 3
   },
   "file_extension": ".py",
   "mimetype": "text/x-python",
   "name": "python",
   "nbconvert_exporter": "python",
   "pygments_lexer": "ipython3",
   "version": "3.8.8"
  }
 },
 "nbformat": 4,
 "nbformat_minor": 5
}
